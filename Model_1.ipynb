{
 "cells": [
  {
   "cell_type": "markdown",
   "metadata": {},
   "source": [
    "# Model 1 - Casos Normales"
   ]
  },
  {
   "cell_type": "code",
   "execution_count": 8,
   "metadata": {},
   "outputs": [],
   "source": [
    "import pandas as pd\n",
    "import numpy as np\n",
    "import matplotlib.pyplot as plt\n",
    "from sklearn.model_selection import train_test_split, RandomizedSearchCV\n",
    "from sklearn.metrics import make_scorer, mean_squared_error\n",
    "from joblib import dump"
   ]
  },
  {
   "cell_type": "code",
   "execution_count": 2,
   "metadata": {},
   "outputs": [
    {
     "data": {
      "text/html": [
       "<div>\n",
       "<style scoped>\n",
       "    .dataframe tbody tr th:only-of-type {\n",
       "        vertical-align: middle;\n",
       "    }\n",
       "\n",
       "    .dataframe tbody tr th {\n",
       "        vertical-align: top;\n",
       "    }\n",
       "\n",
       "    .dataframe thead th {\n",
       "        text-align: right;\n",
       "    }\n",
       "</style>\n",
       "<table border=\"1\" class=\"dataframe\">\n",
       "  <thead>\n",
       "    <tr style=\"text-align: right;\">\n",
       "      <th></th>\n",
       "      <th>antiquity</th>\n",
       "      <th>f_1_2</th>\n",
       "      <th>f_1_3</th>\n",
       "      <th>f_1_4</th>\n",
       "      <th>f_1_5</th>\n",
       "      <th>f_2_2</th>\n",
       "      <th>f_2_3</th>\n",
       "      <th>f_3_1</th>\n",
       "      <th>target</th>\n",
       "    </tr>\n",
       "    <tr>\n",
       "      <th>card_id</th>\n",
       "      <th></th>\n",
       "      <th></th>\n",
       "      <th></th>\n",
       "      <th></th>\n",
       "      <th></th>\n",
       "      <th></th>\n",
       "      <th></th>\n",
       "      <th></th>\n",
       "      <th></th>\n",
       "    </tr>\n",
       "  </thead>\n",
       "  <tbody>\n",
       "    <tr>\n",
       "      <th>C_ID_92a2005557</th>\n",
       "      <td>-0.467481</td>\n",
       "      <td>0.0</td>\n",
       "      <td>0.0</td>\n",
       "      <td>0.0</td>\n",
       "      <td>1.0</td>\n",
       "      <td>1.0</td>\n",
       "      <td>0.0</td>\n",
       "      <td>1.0</td>\n",
       "      <td>-0.820283</td>\n",
       "    </tr>\n",
       "    <tr>\n",
       "      <th>C_ID_3d0044924f</th>\n",
       "      <td>0.050828</td>\n",
       "      <td>0.0</td>\n",
       "      <td>0.0</td>\n",
       "      <td>1.0</td>\n",
       "      <td>0.0</td>\n",
       "      <td>0.0</td>\n",
       "      <td>0.0</td>\n",
       "      <td>0.0</td>\n",
       "      <td>0.392913</td>\n",
       "    </tr>\n",
       "    <tr>\n",
       "      <th>C_ID_d639edf6cd</th>\n",
       "      <td>0.569137</td>\n",
       "      <td>1.0</td>\n",
       "      <td>0.0</td>\n",
       "      <td>0.0</td>\n",
       "      <td>0.0</td>\n",
       "      <td>1.0</td>\n",
       "      <td>0.0</td>\n",
       "      <td>0.0</td>\n",
       "      <td>0.688056</td>\n",
       "    </tr>\n",
       "    <tr>\n",
       "      <th>C_ID_186d6a6901</th>\n",
       "      <td>-0.778466</td>\n",
       "      <td>0.0</td>\n",
       "      <td>0.0</td>\n",
       "      <td>1.0</td>\n",
       "      <td>0.0</td>\n",
       "      <td>0.0</td>\n",
       "      <td>1.0</td>\n",
       "      <td>0.0</td>\n",
       "      <td>0.142495</td>\n",
       "    </tr>\n",
       "    <tr>\n",
       "      <th>C_ID_cdbd2c0db2</th>\n",
       "      <td>-0.985789</td>\n",
       "      <td>0.0</td>\n",
       "      <td>0.0</td>\n",
       "      <td>0.0</td>\n",
       "      <td>0.0</td>\n",
       "      <td>0.0</td>\n",
       "      <td>1.0</td>\n",
       "      <td>0.0</td>\n",
       "      <td>-0.159749</td>\n",
       "    </tr>\n",
       "  </tbody>\n",
       "</table>\n",
       "</div>"
      ],
      "text/plain": [
       "                 antiquity  f_1_2  f_1_3  f_1_4  f_1_5  f_2_2  f_2_3  f_3_1  \\\n",
       "card_id                                                                       \n",
       "C_ID_92a2005557  -0.467481    0.0    0.0    0.0    1.0    1.0    0.0    1.0   \n",
       "C_ID_3d0044924f   0.050828    0.0    0.0    1.0    0.0    0.0    0.0    0.0   \n",
       "C_ID_d639edf6cd   0.569137    1.0    0.0    0.0    0.0    1.0    0.0    0.0   \n",
       "C_ID_186d6a6901  -0.778466    0.0    0.0    1.0    0.0    0.0    1.0    0.0   \n",
       "C_ID_cdbd2c0db2  -0.985789    0.0    0.0    0.0    0.0    0.0    1.0    0.0   \n",
       "\n",
       "                   target  \n",
       "card_id                    \n",
       "C_ID_92a2005557 -0.820283  \n",
       "C_ID_3d0044924f  0.392913  \n",
       "C_ID_d639edf6cd  0.688056  \n",
       "C_ID_186d6a6901  0.142495  \n",
       "C_ID_cdbd2c0db2 -0.159749  "
      ]
     },
     "execution_count": 2,
     "metadata": {},
     "output_type": "execute_result"
    }
   ],
   "source": [
    "data = pd.read_csv('data_labeled.csv').set_index('card_id').drop(['predicted', 'error', 'err_cntrbtn'], axis=1)\n",
    "data = data[data['Model'] == 1].drop('Model', axis=1)\n",
    "\n",
    "X = data.iloc[:, :-1]\n",
    "y = data.iloc[:, -1]\n",
    "\n",
    "data.head()"
   ]
  },
  {
   "cell_type": "code",
   "execution_count": 3,
   "metadata": {},
   "outputs": [],
   "source": [
    "X_train, X_test, y_train, y_test = train_test_split(X, y, test_size=10000)\n",
    "\n",
    "def rmse(y, y_pred, **kwargs):\n",
    "    return np.sqrt(mean_squared_error(y, y_pred))\n",
    "\n",
    "rmse_scorer = make_scorer(score_func=rmse, greater_is_better=False)"
   ]
  },
  {
   "cell_type": "code",
   "execution_count": 4,
   "metadata": {},
   "outputs": [
    {
     "name": "stdout",
     "output_type": "stream",
     "text": [
      "Fitting 3 folds for each of 10 candidates, totalling 30 fits\n"
     ]
    },
    {
     "name": "stderr",
     "output_type": "stream",
     "text": [
      "[Parallel(n_jobs=3)]: Using backend LokyBackend with 3 concurrent workers.\n",
      "[Parallel(n_jobs=3)]: Done  30 out of  30 | elapsed:   35.7s finished\n"
     ]
    },
    {
     "data": {
      "text/plain": [
       "['models/ensemble/model1/enet.joblib']"
      ]
     },
     "execution_count": 4,
     "metadata": {},
     "output_type": "execute_result"
    }
   ],
   "source": [
    "#Elastic Net\n",
    "from sklearn.linear_model import ElasticNet\n",
    "\n",
    "enet_grid = {'alpha':[0.0001, 0.001, 0.01, 0.1, 1, 10, 100],\n",
    "             'l1_ratio':np.arange(0, 1, 0.1)}\n",
    "\n",
    "enet = ElasticNet()\n",
    "\n",
    "enet_cv = RandomizedSearchCV(estimator=enet, \n",
    "                             param_distributions=enet_grid, \n",
    "                             n_iter=10, \n",
    "                             scoring=rmse_scorer, \n",
    "                             n_jobs=3, \n",
    "                             cv=3,\n",
    "                             random_state=42,\n",
    "                             verbose=2)\n",
    "\n",
    "enet_cv.fit(X_train, y_train)\n",
    "dump(enet_cv, 'models/ensemble/model1/enet.joblib')"
   ]
  },
  {
   "cell_type": "code",
   "execution_count": 5,
   "metadata": {},
   "outputs": [
    {
     "name": "stdout",
     "output_type": "stream",
     "text": [
      "Fitting 3 folds for each of 10 candidates, totalling 30 fits\n"
     ]
    },
    {
     "name": "stderr",
     "output_type": "stream",
     "text": [
      "[Parallel(n_jobs=3)]: Using backend LokyBackend with 3 concurrent workers.\n",
      "[Parallel(n_jobs=3)]: Done  30 out of  30 | elapsed: 27.2min finished\n"
     ]
    },
    {
     "data": {
      "text/plain": [
       "['models/ensemble/model2/rf.joblib']"
      ]
     },
     "execution_count": 5,
     "metadata": {},
     "output_type": "execute_result"
    }
   ],
   "source": [
    "#Random Forest Regressor\n",
    "from sklearn.ensemble import RandomForestRegressor\n",
    "\n",
    "rf_grid = {'max_depth': np.arange(5, 100, 5),\n",
    "           'max_features': ['auto', 'sqrt'],\n",
    "           'min_samples_leaf': [1, 10, 50, 100],\n",
    "           'min_samples_split': [2, 10, 100, 200],\n",
    "           'n_estimators': np.arange(250, 2000, 250)}\n",
    "\n",
    "rf = RandomForestRegressor()\n",
    "\n",
    "rf_cv = RandomizedSearchCV(estimator=rf, \n",
    "                           param_distributions=rf_grid, \n",
    "                           n_iter=10, \n",
    "                           scoring=rmse_scorer, \n",
    "                           n_jobs=3, \n",
    "                           cv=3,\n",
    "                           random_state=42,\n",
    "                           verbose=2)\n",
    "\n",
    "rf_cv.fit(X_train, y_train)\n",
    "dump(rf_cv, 'models/ensemble/model1/rf.joblib')"
   ]
  },
  {
   "cell_type": "code",
   "execution_count": 6,
   "metadata": {},
   "outputs": [
    {
     "name": "stdout",
     "output_type": "stream",
     "text": [
      "Fitting 3 folds for each of 10 candidates, totalling 30 fits\n"
     ]
    },
    {
     "name": "stderr",
     "output_type": "stream",
     "text": [
      "[Parallel(n_jobs=3)]: Using backend LokyBackend with 3 concurrent workers.\n",
      "[Parallel(n_jobs=3)]: Done  30 out of  30 | elapsed:  7.6min finished\n"
     ]
    },
    {
     "data": {
      "text/plain": [
       "['models/ensemble/model1/lgbm.joblib']"
      ]
     },
     "execution_count": 6,
     "metadata": {},
     "output_type": "execute_result"
    }
   ],
   "source": [
    "#Light GBM\n",
    "from lightgbm import LGBMRegressor\n",
    "\n",
    "lgbm_grid = {'learning_rate': np.arange(0.1, 1, 0.1),\n",
    "             'n_estimators': np.arange(100, 2000, 100),\n",
    "             'reg_alpha': [0.001, 0.01, 0.1, 1, 10, 100],\n",
    "             'reg_lambda': [0.001, 0.01, 0.1, 1, 10, 100]}\n",
    "\n",
    "lgbm = LGBMRegressor()\n",
    "\n",
    "lgbm_cv = RandomizedSearchCV(estimator=lgbm,\n",
    "                             param_distributions=lgbm_grid,\n",
    "                             n_iter=10,\n",
    "                             scoring=rmse_scorer,\n",
    "                             n_jobs=3,\n",
    "                             cv=3,\n",
    "                             random_state=42,\n",
    "                             verbose=2)\n",
    "\n",
    "lgbm_cv.fit(X_train, y_train)\n",
    "dump(lgbm_cv, 'models/ensemble/model1/lgbm.joblib')"
   ]
  },
  {
   "cell_type": "code",
   "execution_count": 9,
   "metadata": {},
   "outputs": [
    {
     "name": "stdout",
     "output_type": "stream",
     "text": [
      "|Elastic Net | RMSE on validation set = 1.683|\n",
      "|Cross validation distribution: mean = 1.719 | min = 1.718 | max = 1.722|\n",
      "\n",
      "|Random Forest | RMSE on validation set = 1.682|\n",
      "|Cross validation distribution: mean = 1.719 | min = 1.718 | max = 1.722|\n",
      "\n",
      "|LightGBM | RMSE on validation set = 1.682|\n",
      "|Cross validation distribution: mean = 1.719 | min = 1.718 | max = 1.722|\n",
      "\n"
     ]
    },
    {
     "data": {
      "text/plain": [
       "Text(0.5,0,'')"
      ]
     },
     "execution_count": 9,
     "metadata": {},
     "output_type": "execute_result"
    },
    {
     "data": {
      "image/png": "[encoded data removed]",
      "text/plain": [
       "<matplotlib.figure.Figure at 0x17054da0>"
      ]
     },
     "metadata": {},
     "output_type": "display_data"
    }
   ],
   "source": [
    "models = [('Elastic Net', enet_cv),\n",
    "          ('Random Forest', rf_cv),\n",
    "          ('LightGBM', lgbm_cv)]\n",
    "\n",
    "reverse_sign = True\n",
    "scores_dict = {}\n",
    "for model in models:\n",
    "    label, estimator = model\n",
    "    scores = np.array([estimator.cv_results_['split{}_test_score'.format(i)][estimator.best_index_] for i in range(estimator.cv)])\n",
    "    if reverse_sign: scores = -scores\n",
    "    scores_dict[label] = scores\n",
    "    y_pred = estimator.best_estimator_.predict(X_test)\n",
    "    print('|{label} | RMSE on validation set = {rmse}|'.format(label=label, rmse=round(rmse(y_test, y_pred), 3)))\n",
    "    print('|Cross validation distribution: mean = {mean} | min = {min} | max = {max}|\\n'.format(min=round(scores.min(), 3), max=round(scores.max(), 3), mean=round(scores.mean(), 3)))\n",
    "    \n",
    "#Plot results\n",
    "ax = pd.melt(pd.DataFrame.from_dict(scores_dict)).boxplot(by='variable', grid=False)\n",
    "fig = ax.get_figure()\n",
    "fig.suptitle('')\n",
    "plt.xlabel('')"
   ]
  }
 ],
 "metadata": {
  "kernelspec": {
   "display_name": "Python 3",
   "language": "python",
   "name": "python3"
  },
  "language_info": {
   "codemirror_mode": {
    "name": "ipython",
    "version": 3
   },
   "file_extension": ".py",
   "mimetype": "text/x-python",
   "name": "python",
   "nbconvert_exporter": "python",
   "pygments_lexer": "ipython3",
   "version": "3.6.6"
  }
 },
 "nbformat": 4,
 "nbformat_minor": 2
}
