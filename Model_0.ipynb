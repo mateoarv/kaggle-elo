{
 "cells": [
  {
   "cell_type": "markdown",
   "metadata": {},
   "source": [
    "# Baseline Model\n",
    "\n"
   ]
  },
  {
   "cell_type": "code",
   "execution_count": 1,
   "metadata": {
    "scrolled": true
   },
   "outputs": [
    {
     "name": "stdout",
     "output_type": "stream",
     "text": [
      "Original data:\n",
      "                first_active_month  feature_1  feature_2  feature_3    target\n",
      "card_id                                                                      \n",
      "C_ID_92a2005557            2017-06          5          2          1 -0.820283\n",
      "C_ID_3d0044924f            2017-01          4          1          0  0.392913\n",
      "C_ID_d639edf6cd            2016-08          2          2          0  0.688056\n",
      "C_ID_186d6a6901            2017-09          4          3          0  0.142495\n",
      "C_ID_cdbd2c0db2            2017-11          1          3          0 -0.159749\n",
      "\n",
      "Performing date transforming...\n",
      "\n",
      "Encoding dummy variables...\n",
      "\n",
      "Dropping columns...\n",
      "\n",
      "Transformed data:\n",
      "[[-0.46748063  0.          0.          0.          1.          1.\n",
      "   0.          1.        ]\n",
      " [ 0.05082796  0.          0.          1.          0.          0.\n",
      "   0.          0.        ]\n",
      " [ 0.56913655  1.          0.          0.          0.          1.\n",
      "   0.          0.        ]\n",
      " [-0.77846579  0.          0.          1.          0.          0.\n",
      "   1.          0.        ]\n",
      " [-0.98578923  0.          0.          0.          0.          0.\n",
      "   1.          0.        ]]\n",
      "\n",
      "Targets:\n",
      "card_id\n",
      "C_ID_92a2005557   -0.820283\n",
      "C_ID_3d0044924f    0.392913\n",
      "C_ID_d639edf6cd    0.688056\n",
      "C_ID_186d6a6901    0.142495\n",
      "C_ID_cdbd2c0db2   -0.159749\n",
      "Name: target, dtype: float64\n"
     ]
    }
   ],
   "source": [
    "import pandas as pd\n",
    "import numpy as np\n",
    "from datetime import datetime\n",
    "from sklearn.base import BaseEstimator, TransformerMixin\n",
    "from sklearn.preprocessing import OneHotEncoder, OrdinalEncoder, StandardScaler\n",
    "from sklearn.compose import ColumnTransformer\n",
    "from sklearn.pipeline import Pipeline\n",
    "\n",
    "class DateTransformer(BaseEstimator, TransformerMixin):\n",
    "    \n",
    "    def __init__(self, date_format='%Y-%m'):\n",
    "        self.date_format = date_format\n",
    "        \n",
    "    def diff_month(self, d1, d2):\n",
    "        return (d1.year - d2.year) * 12 + d1.month - d2.month\n",
    "        \n",
    "    def transform(self, X, y=None, **fit_params):\n",
    "        print('\\nPerforming date transforming...')\n",
    "        dates = X.apply(lambda x: datetime.strptime(x, self.date_format))\n",
    "        return pd.DataFrame(dates.apply(lambda x: self.diff_month(self.max_date, x)))\n",
    "    \n",
    "    def fit(self, X, y=None, **fit_params):\n",
    "        dates = X.apply(lambda x: datetime.strptime(x, self.date_format))\n",
    "        self.max_date = dates.max()\n",
    "        return self\n",
    "    \n",
    "class DummyEncoder(BaseEstimator, TransformerMixin):\n",
    "\n",
    "    def __init__(self, categories='auto', sparse=True):\n",
    "        self.categories = categories\n",
    "        self.sparse = sparse\n",
    "\n",
    "    def transform(self, X, y=None, **fit_params):\n",
    "        print('\\nEncoding dummy variables...')\n",
    "        return self.ohe.transform(X)\n",
    "\n",
    "    def fit(self, X, y=None, **fit_params):\n",
    "        self.ohe = OneHotEncoder(sparse=self.sparse, categories=self.categories)\n",
    "        self.ohe.fit(X)\n",
    "        return self\n",
    "    \n",
    "class DropTransformer(BaseEstimator, TransformerMixin):\n",
    "    \n",
    "    def __init__(self, cols_to_drop):\n",
    "        assert isinstance(cols_to_drop, list)\n",
    "        self.cols_to_drop = cols_to_drop\n",
    "    \n",
    "    def transform(self, X, y=None, **fit_params):\n",
    "        print('\\nDropping columns...')\n",
    "        return np.delete(X, self.cols_to_drop, axis=1)\n",
    "    \n",
    "    def fit(self, X, y=None, **fit_params):\n",
    "        return self\n",
    "    \n",
    "#Read in raw data\n",
    "data = pd.read_csv('data/train.csv').set_index('card_id')\n",
    "print('Original data:')\n",
    "print(data.head())\n",
    "\n",
    "#Split data X, y\n",
    "X = data.drop('target', axis=1)\n",
    "y = data['target']\n",
    "\n",
    "#Define processing pipeline\n",
    "preprocessing = Pipeline([('ColumnTransformer', ColumnTransformer([('DateTransformer', DateTransformer(), 'first_active_month'),\n",
    "                                                                   ('OneHotEncoder', DummyEncoder(categories='auto', sparse=False), ['feature_1', 'feature_2']),\n",
    "                                                                   ('OrdinalEncoder', OrdinalEncoder(categories='auto'), ['feature_3'])], \n",
    "                                                                  remainder='passthrough')),\n",
    "                          ('DropTransformer', DropTransformer(cols_to_drop=[1,6])),\n",
    "                          ('Scaler', ColumnTransformer([('Scaler', StandardScaler(with_mean=True, with_std=True), [0])],\n",
    "                                                      remainder='passthrough'))])\n",
    "\n",
    "#Transform data using pipeline above\n",
    "X = preprocessing.fit_transform(X)\n",
    "\n",
    "print('\\nTransformed data:')\n",
    "print(X[:5])\n",
    "print('\\nTargets:')\n",
    "print(y[:5])"
   ]
  },
  {
   "cell_type": "code",
   "execution_count": 4,
   "metadata": {},
   "outputs": [],
   "source": [
    "from sklearn.metrics import make_scorer, mean_squared_error\n",
    "def rmse(y, y_pred, **kwargs):\n",
    "    return np.sqrt(mean_squared_error(y, y_pred))\n",
    "\n",
    "rmse_scorer = make_scorer(score_func=rmse, greater_is_better=False)"
   ]
  },
  {
   "cell_type": "code",
   "execution_count": 5,
   "metadata": {},
   "outputs": [],
   "source": [
    "#Load model\n",
    "from joblib import load\n",
    "\n",
    "enet_cv = load('models/enet.joblib')"
   ]
  },
  {
   "cell_type": "code",
   "execution_count": 10,
   "metadata": {},
   "outputs": [
    {
     "data": {
      "text/plain": [
       "201917"
      ]
     },
     "execution_count": 10,
     "metadata": {},
     "output_type": "execute_result"
    }
   ],
   "source": [
    "#Prediction\n",
    "y_pred = enet_cv.best_estimator_.predict(X)"
   ]
  },
  {
   "cell_type": "code",
   "execution_count": 27,
   "metadata": {
    "scrolled": true
   },
   "outputs": [],
   "source": [
    "data_pred = pd.DataFrame(X, columns=['antiquity','f_1_2', 'f_1_3', 'f_1_4', 'f_1_5', 'f_2_2', 'f_2_3', 'f_3_1'])\n",
    "data_pred['target'] = y.tolist()\n",
    "data_pred['predicted'] = y_pred.tolist()"
   ]
  },
  {
   "cell_type": "code",
   "execution_count": 30,
   "metadata": {},
   "outputs": [
    {
     "data": {
      "text/html": [
       "<div>\n",
       "<style scoped>\n",
       "    .dataframe tbody tr th:only-of-type {\n",
       "        vertical-align: middle;\n",
       "    }\n",
       "\n",
       "    .dataframe tbody tr th {\n",
       "        vertical-align: top;\n",
       "    }\n",
       "\n",
       "    .dataframe thead th {\n",
       "        text-align: right;\n",
       "    }\n",
       "</style>\n",
       "<table border=\"1\" class=\"dataframe\">\n",
       "  <thead>\n",
       "    <tr style=\"text-align: right;\">\n",
       "      <th></th>\n",
       "      <th>antiquity</th>\n",
       "      <th>f_1_2</th>\n",
       "      <th>f_1_3</th>\n",
       "      <th>f_1_4</th>\n",
       "      <th>f_1_5</th>\n",
       "      <th>f_2_2</th>\n",
       "      <th>f_2_3</th>\n",
       "      <th>f_3_1</th>\n",
       "      <th>target</th>\n",
       "      <th>predicted</th>\n",
       "    </tr>\n",
       "    <tr>\n",
       "      <th>card_id</th>\n",
       "      <th></th>\n",
       "      <th></th>\n",
       "      <th></th>\n",
       "      <th></th>\n",
       "      <th></th>\n",
       "      <th></th>\n",
       "      <th></th>\n",
       "      <th></th>\n",
       "      <th></th>\n",
       "      <th></th>\n",
       "    </tr>\n",
       "  </thead>\n",
       "  <tbody>\n",
       "    <tr>\n",
       "      <th>C_ID_92a2005557</th>\n",
       "      <td>-0.467481</td>\n",
       "      <td>0.0</td>\n",
       "      <td>0.0</td>\n",
       "      <td>0.0</td>\n",
       "      <td>1.0</td>\n",
       "      <td>1.0</td>\n",
       "      <td>0.0</td>\n",
       "      <td>1.0</td>\n",
       "      <td>-0.820283</td>\n",
       "      <td>-0.332864</td>\n",
       "    </tr>\n",
       "    <tr>\n",
       "      <th>C_ID_3d0044924f</th>\n",
       "      <td>0.050828</td>\n",
       "      <td>0.0</td>\n",
       "      <td>0.0</td>\n",
       "      <td>1.0</td>\n",
       "      <td>0.0</td>\n",
       "      <td>0.0</td>\n",
       "      <td>0.0</td>\n",
       "      <td>0.0</td>\n",
       "      <td>0.392913</td>\n",
       "      <td>-0.472223</td>\n",
       "    </tr>\n",
       "    <tr>\n",
       "      <th>C_ID_d639edf6cd</th>\n",
       "      <td>0.569137</td>\n",
       "      <td>1.0</td>\n",
       "      <td>0.0</td>\n",
       "      <td>0.0</td>\n",
       "      <td>0.0</td>\n",
       "      <td>1.0</td>\n",
       "      <td>0.0</td>\n",
       "      <td>0.0</td>\n",
       "      <td>0.688056</td>\n",
       "      <td>-0.442969</td>\n",
       "    </tr>\n",
       "    <tr>\n",
       "      <th>C_ID_186d6a6901</th>\n",
       "      <td>-0.778466</td>\n",
       "      <td>0.0</td>\n",
       "      <td>0.0</td>\n",
       "      <td>1.0</td>\n",
       "      <td>0.0</td>\n",
       "      <td>0.0</td>\n",
       "      <td>1.0</td>\n",
       "      <td>0.0</td>\n",
       "      <td>0.142495</td>\n",
       "      <td>-0.365212</td>\n",
       "    </tr>\n",
       "    <tr>\n",
       "      <th>C_ID_cdbd2c0db2</th>\n",
       "      <td>-0.985789</td>\n",
       "      <td>0.0</td>\n",
       "      <td>0.0</td>\n",
       "      <td>0.0</td>\n",
       "      <td>0.0</td>\n",
       "      <td>0.0</td>\n",
       "      <td>1.0</td>\n",
       "      <td>0.0</td>\n",
       "      <td>-0.159749</td>\n",
       "      <td>-0.282696</td>\n",
       "    </tr>\n",
       "  </tbody>\n",
       "</table>\n",
       "</div>"
      ],
      "text/plain": [
       "                 antiquity  f_1_2  f_1_3  f_1_4  f_1_5  f_2_2  f_2_3  f_3_1  \\\n",
       "card_id                                                                       \n",
       "C_ID_92a2005557  -0.467481    0.0    0.0    0.0    1.0    1.0    0.0    1.0   \n",
       "C_ID_3d0044924f   0.050828    0.0    0.0    1.0    0.0    0.0    0.0    0.0   \n",
       "C_ID_d639edf6cd   0.569137    1.0    0.0    0.0    0.0    1.0    0.0    0.0   \n",
       "C_ID_186d6a6901  -0.778466    0.0    0.0    1.0    0.0    0.0    1.0    0.0   \n",
       "C_ID_cdbd2c0db2  -0.985789    0.0    0.0    0.0    0.0    0.0    1.0    0.0   \n",
       "\n",
       "                   target  predicted  \n",
       "card_id                               \n",
       "C_ID_92a2005557 -0.820283  -0.332864  \n",
       "C_ID_3d0044924f  0.392913  -0.472223  \n",
       "C_ID_d639edf6cd  0.688056  -0.442969  \n",
       "C_ID_186d6a6901  0.142495  -0.365212  \n",
       "C_ID_cdbd2c0db2 -0.159749  -0.282696  "
      ]
     },
     "execution_count": 30,
     "metadata": {},
     "output_type": "execute_result"
    }
   ],
   "source": [
    "data = pd.read_csv('data/train.csv')\n",
    "data_pred['card_id'] = data['card_id']\n",
    "data_pred = data_pred.set_index('card_id')\n",
    "data_pred.head()"
   ]
  },
  {
   "cell_type": "code",
   "execution_count": 35,
   "metadata": {},
   "outputs": [],
   "source": [
    "#Ei - RMSE - d(RMSE)/d(Ei)\n",
    "rmse_value = rmse(data_pred['target'],data_pred['predicted'])\n",
    "n = len(data_pred)\n",
    "data_pred['error'] = abs(data_pred['target'] - data_pred['predicted'])\n",
    "data_pred['err_cntrbtn'] = (data_pred['error']/(n * rmse_value))"
   ]
  },
  {
   "cell_type": "code",
   "execution_count": 43,
   "metadata": {},
   "outputs": [
    {
     "data": {
      "image/png": "[encoded data removed]",
      "text/plain": [
       "<Figure size 432x288 with 1 Axes>"
      ]
     },
     "metadata": {
      "needs_background": "light"
     },
     "output_type": "display_data"
    }
   ],
   "source": [
    "from matplotlib import pyplot as plt\n",
    "colors = ['blue' if row['err_cntrbtn'] < 0.00003 else 'red' for i, row in data_pred.iterrows()]\n",
    "plt.scatter(data_pred['predicted'], data_pred['err_cntrbtn'], alpha = 0.8, c = colors)\n",
    "plt.ylim(0,0.00006)\n",
    "plt.xlabel('prediction')\n",
    "plt.ylabel('error contribution')\n",
    "plt.show()"
   ]
  },
  {
   "cell_type": "code",
   "execution_count": 46,
   "metadata": {},
   "outputs": [],
   "source": [
    "# Create the new label for Model 0\n",
    "Model = ['1' if row['err_cntrbtn'] < 0.00003 else '2' for i, row in data_pred.iterrows()]\n",
    "data_pred['Model'] = Model\n",
    "data_pred.to_csv('data_labeled')"
   ]
  }
 ],
 "metadata": {
  "kernelspec": {
   "display_name": "Python 3",
   "language": "python",
   "name": "python3"
  },
  "language_info": {
   "codemirror_mode": {
    "name": "ipython",
    "version": 3
   },
   "file_extension": ".py",
   "mimetype": "text/x-python",
   "name": "python",
   "nbconvert_exporter": "python",
   "pygments_lexer": "ipython3",
   "version": "3.7.0"
  }
 },
 "nbformat": 4,
 "nbformat_minor": 2
}
